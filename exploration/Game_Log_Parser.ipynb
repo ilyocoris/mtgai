{
 "cells": [
  {
   "cell_type": "code",
   "execution_count": 35,
   "metadata": {},
   "outputs": [],
   "source": [
    "import re\n",
    "from typing import List"
   ]
  },
  {
   "cell_type": "markdown",
   "metadata": {},
   "source": [
    "#### Loading from Game_log file\n",
    "\n",
    "The next block builds the necessary functions to perform minimal pre-processing on the log file. From an encoded log file to a list of game actions. The cleaning is not perfect and some traces of the encoding characters still persist."
   ]
  },
  {
   "cell_type": "code",
   "execution_count": 38,
   "metadata": {},
   "outputs": [],
   "source": [
    "def load_log_from_file(log_path:str)-> str:\n",
    "    with open(log_path, 'r', encoding = \"latin-1\") as log_file:\n",
    "        log = log_file.read()  \n",
    "    return log \n",
    "\n",
    "def find_and_mask_players(log : str) -> str:\n",
    "    players = re.findall(\"@P([^\\s]+)* rolled\",log)\n",
    "    log = re.sub(players[0],\"<P1>\",log)\n",
    "    log = re.sub(players[1],\"<P2>\",log)\n",
    "    return log\n",
    "\n",
    "def clean_action(action : str) -> str:\n",
    "    # clear extra spaces\n",
    "    action = re.sub(\"\\s+\",\" \", action)\n",
    "    # clear gibberish after final period\n",
    "    action = re.sub(\"\\.(.*)$\", \".\", action)\n",
    "    if bool(re.match(\"^Turn\",action)):\n",
    "        action = re.sub(\">(.*)$\", \">\", action)\n",
    "    return action\n",
    "\n",
    "def dump_game_actions_to_file(actions:List[str], output_file:str):\n",
    "        with open(output_file,\"w\") as file:\n",
    "            for action in actions:\n",
    "                file.write(action + \"\\n\")\n",
    "\n",
    "def process_game_log(log_path: str, output_dir:str):\n",
    "    log_id = re.search(\"GameLog_(.*)\\.dat\",log_path).group(1)\n",
    "    log = load_log_from_file(log_path)\n",
    "    log = find_and_mask_players(log)\n",
    "    # split into game actions and ignore first, as it just containes the game ids\n",
    "    log = log.split(\"@P\")\n",
    "    log = log[1:]\n",
    "    # process actions\n",
    "    actions = []\n",
    "    for action in log:\n",
    "        action = clean_action(action)\n",
    "        if len(action) > 0:\n",
    "            actions.append(action)\n",
    "    dump_game_actions_to_file(actions, output_dir+log_id+\".txt\")\n",
    "    "
   ]
  },
  {
   "cell_type": "code",
   "execution_count": 40,
   "metadata": {},
   "outputs": [],
   "source": [
    "process_game_log(\n",
    "    log_path='../data/examples/game_logs_raw/Match_GameLog_30033c5b-953f-4761-a205-b6bc59d454f9.dat',\n",
    "    output_dir='../data/examples/game_logs_clean/'\n",
    ")\n"
   ]
  },
  {
   "cell_type": "markdown",
   "metadata": {},
   "source": [
    "#### Mask Cards\n",
    "\n",
    "As we masked the players, we also want to mask the names of the cards (as they carry semantic connotations) and mask them with an id. We will use the same ids that magic online uses. \n",
    "Relevant endpoint: https://scryfall.com/docs/api/cards/mtgo"
   ]
  },
  {
   "cell_type": "code",
   "execution_count": 33,
   "metadata": {},
   "outputs": [],
   "source": [
    "def find_card_names(action:str) -> List[str]:\n",
    "    \"\"\" \n",
    "        oÛK%@PAje8 plays @[Forest@:163744,544:@] -> [\"Forest\"] \n",
    "    \"\"\"\n",
    "    return re.findall(\"@\\[(.*)@\\:\",action)\n",
    "\n",
    "def find_card_ids(action:str) -> List[str]:\n",
    "    \"\"\" \n",
    "        oÛK%@PAje8 plays @[Forest@:163744,544:@] -> [\"163744\"] \n",
    "    \"\"\"\n",
    "    return re.findall(\"@\\:(.*),\",action)"
   ]
  }
 ],
 "metadata": {
  "kernelspec": {
   "display_name": "Python 3.9.12 ('mtgai')",
   "language": "python",
   "name": "python3"
  },
  "language_info": {
   "codemirror_mode": {
    "name": "ipython",
    "version": 3
   },
   "file_extension": ".py",
   "mimetype": "text/x-python",
   "name": "python",
   "nbconvert_exporter": "python",
   "pygments_lexer": "ipython3",
   "version": "3.9.12"
  },
  "orig_nbformat": 4,
  "vscode": {
   "interpreter": {
    "hash": "56440aa2982206de5ae743ac995bf3dee6ddfe74287d21669b592d5ce2411c23"
   }
  }
 },
 "nbformat": 4,
 "nbformat_minor": 2
}
